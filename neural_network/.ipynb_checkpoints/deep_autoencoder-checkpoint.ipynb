{
 "cells": [
  {
   "cell_type": "code",
   "execution_count": 1,
   "metadata": {},
   "outputs": [
    {
     "name": "stderr",
     "output_type": "stream",
     "text": [
      "Using TensorFlow backend.\n"
     ]
    }
   ],
   "source": [
    "import os\n",
    "import numpy as np\n",
    "import pandas as pd\n",
    "import matplotlib.pyplot as plt\n",
    "%matplotlib inline\n",
    "from pprint import pprint\n",
    "\n",
    "from sklearn.preprocessing import StandardScaler\n",
    "from sklearn.model_selection import train_test_split\n",
    "from sklearn.decomposition import PCA\n",
    "from sklearn.metrics import confusion_matrix\n",
    "\n",
    "from keras.datasets import fashion_mnist\n",
    "from keras.utils.np_utils import to_categorical\n",
    "from keras.models import Model, Sequential\n",
    "from keras.layers import Input, Dense, Dropout, Flatten, Conv2D, MaxPool2D, GaussianNoise\n",
    "from keras.optimizers import Adam\n",
    "from keras.preprocessing.image import ImageDataGenerator\n",
    "from keras.callbacks import EarlyStopping"
   ]
  },
  {
   "cell_type": "code",
   "execution_count": 2,
   "metadata": {},
   "outputs": [],
   "source": [
    "(x_train, y_train), (x_test, y_test) = fashion_mnist.load_data()"
   ]
  },
  {
   "cell_type": "code",
   "execution_count": 3,
   "metadata": {},
   "outputs": [
    {
     "name": "stdout",
     "output_type": "stream",
     "text": [
      "x_train shape: (60000, 28, 28), y_train shape: (60000,)\n"
     ]
    }
   ],
   "source": [
    "print(\"x_train shape: {}, y_train shape: {}\".format(x_train.shape, y_train.shape))"
   ]
  },
  {
   "cell_type": "code",
   "execution_count": 4,
   "metadata": {},
   "outputs": [
    {
     "data": {
      "text/plain": [
       "<matplotlib.image.AxesImage at 0x1dda51244a8>"
      ]
     },
     "execution_count": 4,
     "metadata": {},
     "output_type": "execute_result"
    },
    {
     "data": {
      "image/png": "[encoded data removed]",
      "text/plain": [
       "<Figure size 432x288 with 1 Axes>"
      ]
     },
     "metadata": {
      "needs_background": "light"
     },
     "output_type": "display_data"
    }
   ],
   "source": [
    "plt.imshow(x_train[100], cmap='gray')"
   ]
  },
  {
   "cell_type": "code",
   "execution_count": 5,
   "metadata": {},
   "outputs": [],
   "source": [
    "x_train, x_val, y_train, y_val = train_test_split(x_train, y_train, test_size=0.1)"
   ]
  },
  {
   "cell_type": "code",
   "execution_count": 6,
   "metadata": {},
   "outputs": [],
   "source": [
    "x_train = x_train.reshape(len(x_train), 28*28)\n",
    "x_val = x_val.reshape(len(x_val), 28*28)\n",
    "x_test = x_test.reshape(len(x_test), 28*28)"
   ]
  },
  {
   "cell_type": "code",
   "execution_count": 7,
   "metadata": {},
   "outputs": [
    {
     "name": "stdout",
     "output_type": "stream",
     "text": [
      "(54000, 784)\n",
      "(6000, 784)\n",
      "(54000,)\n"
     ]
    }
   ],
   "source": [
    "print(x_train.shape)\n",
    "print(x_val.shape)\n",
    "print(y_train.shape)"
   ]
  },
  {
   "cell_type": "code",
   "execution_count": 8,
   "metadata": {},
   "outputs": [],
   "source": [
    "x_train = x_train.astype('float32')/255.\n",
    "x_val = x_val.astype('float32')/255.\n",
    "x_test = x_test.astype('float32')/255."
   ]
  },
  {
   "cell_type": "code",
   "execution_count": 9,
   "metadata": {},
   "outputs": [
    {
     "data": {
      "text/plain": [
       "<matplotlib.image.AxesImage at 0x1dda51c95c0>"
      ]
     },
     "execution_count": 9,
     "metadata": {},
     "output_type": "execute_result"
    },
    {
     "data": {
      "image/png": "[encoded data removed]",
      "text/plain": [
       "<Figure size 432x288 with 1 Axes>"
      ]
     },
     "metadata": {
      "needs_background": "light"
     },
     "output_type": "display_data"
    }
   ],
   "source": [
    "plt.imshow(x_train[10].reshape(28,28), cmap='gray')"
   ]
  },
  {
   "cell_type": "code",
   "execution_count": 10,
   "metadata": {},
   "outputs": [],
   "source": [
    "y_train = to_categorical(y_train)\n",
    "y_val = to_categorical(y_val)"
   ]
  },
  {
   "cell_type": "code",
   "execution_count": 20,
   "metadata": {},
   "outputs": [
    {
     "name": "stdout",
     "output_type": "stream",
     "text": [
      "Encoding dim: 10\n",
      "Compression factor: 78.4\n",
      "Model: \"sequential_1\"\n",
      "_________________________________________________________________\n",
      "Layer (type)                 Output Shape              Param #   \n",
      "=================================================================\n",
      "dense_1 (Dense)              (None, 40)                31400     \n",
      "_________________________________________________________________\n",
      "dense_2 (Dense)              (None, 20)                820       \n",
      "_________________________________________________________________\n",
      "dense_3 (Dense)              (None, 10)                210       \n",
      "_________________________________________________________________\n",
      "dense_4 (Dense)              (None, 20)                220       \n",
      "_________________________________________________________________\n",
      "dense_5 (Dense)              (None, 40)                840       \n",
      "_________________________________________________________________\n",
      "dense_6 (Dense)              (None, 784)               32144     \n",
      "=================================================================\n",
      "Total params: 65,634\n",
      "Trainable params: 65,634\n",
      "Non-trainable params: 0\n",
      "_________________________________________________________________\n"
     ]
    }
   ],
   "source": [
    "# autoencoder\n",
    "input_dim = x_train.shape[1]\n",
    "encoding_dim = y_train.shape[1]\n",
    "print(\"Encoding dim: {}\".format(encoding_dim))\n",
    "\n",
    "compression_factor = float(input_dim)/encoding_dim\n",
    "print(\"Compression factor: {}\".format(compression_factor))\n",
    "\n",
    "autoencoder = Sequential()\n",
    "autoencoder.add(Dense(units=4*encoding_dim, input_shape=(input_dim,), activation='relu'))\n",
    "autoencoder.add(Dense(units=2*encoding_dim, activation='relu'))\n",
    "autoencoder.add(Dense(units=encoding_dim, activation='relu'))\n",
    "\n",
    "autoencoder.add(Dense(units=2*encoding_dim, activation='relu'))\n",
    "autoencoder.add(Dense(units=4*encoding_dim, activation='relu'))\n",
    "autoencoder.add(Dense(units=input_dim, activation='sigmoid'))\n",
    "\n",
    "autoencoder.summary()"
   ]
  },
  {
   "cell_type": "code",
   "execution_count": 21,
   "metadata": {},
   "outputs": [
    {
     "name": "stdout",
     "output_type": "stream",
     "text": [
      "Model: \"model_1\"\n",
      "_________________________________________________________________\n",
      "Layer (type)                 Output Shape              Param #   \n",
      "=================================================================\n",
      "input_1 (InputLayer)         (None, 784)               0         \n",
      "_________________________________________________________________\n",
      "dense_1 (Dense)              (None, 40)                31400     \n",
      "_________________________________________________________________\n",
      "dense_2 (Dense)              (None, 20)                820       \n",
      "_________________________________________________________________\n",
      "dense_3 (Dense)              (None, 10)                210       \n",
      "=================================================================\n",
      "Total params: 32,430\n",
      "Trainable params: 32,430\n",
      "Non-trainable params: 0\n",
      "_________________________________________________________________\n"
     ]
    }
   ],
   "source": [
    "# encoder\n",
    "input_img = Input(shape=(input_dim,))\n",
    "encoder_layer1 = autoencoder.layers[0]\n",
    "encoder_layer2 = autoencoder.layers[1]\n",
    "encoder_layer3 = autoencoder.layers[2]\n",
    "encoder = Model(input_img, \n",
    "                encoder_layer3(encoder_layer2(encoder_layer1(input_img))))\n",
    "\n",
    "encoder.summary()"
   ]
  },
  {
   "cell_type": "code",
   "execution_count": 22,
   "metadata": {},
   "outputs": [],
   "source": [
    "autoencoder.compile(loss='binary_crossentropy', optimizer = 'adam', metrics=[\"accuracy\"])"
   ]
  },
  {
   "cell_type": "code",
   "execution_count": 23,
   "metadata": {},
   "outputs": [
    {
     "name": "stdout",
     "output_type": "stream",
     "text": [
      "Train on 54000 samples, validate on 6000 samples\n",
      "Epoch 1/100\n",
      "54000/54000 [==============================] - 3s 55us/step - loss: 0.3870 - acc: 0.4877 - val_loss: 0.3282 - val_acc: 0.5013\n",
      "Epoch 2/100\n",
      "54000/54000 [==============================] - 2s 46us/step - loss: 0.3187 - acc: 0.5027 - val_loss: 0.3140 - val_acc: 0.5022\n",
      "Epoch 3/100\n",
      "54000/54000 [==============================] - 2s 46us/step - loss: 0.3113 - acc: 0.5039 - val_loss: 0.3097 - val_acc: 0.5038\n",
      "Epoch 4/100\n",
      "54000/54000 [==============================] - 3s 46us/step - loss: 0.3079 - acc: 0.5045 - val_loss: 0.3065 - val_acc: 0.5037\n",
      "Epoch 5/100\n",
      "54000/54000 [==============================] - 2s 45us/step - loss: 0.3054 - acc: 0.5049 - val_loss: 0.3043 - val_acc: 0.5043\n",
      "Epoch 6/100\n",
      "54000/54000 [==============================] - 2s 45us/step - loss: 0.3033 - acc: 0.5053 - val_loss: 0.3024 - val_acc: 0.5047\n",
      "Epoch 7/100\n",
      "54000/54000 [==============================] - 2s 44us/step - loss: 0.3016 - acc: 0.5055 - val_loss: 0.3011 - val_acc: 0.5048\n",
      "Epoch 8/100\n",
      "54000/54000 [==============================] - 2s 44us/step - loss: 0.3003 - acc: 0.5057 - val_loss: 0.2999 - val_acc: 0.5051\n",
      "Epoch 9/100\n",
      "54000/54000 [==============================] - 2s 44us/step - loss: 0.2993 - acc: 0.5058 - val_loss: 0.2990 - val_acc: 0.5052\n",
      "Epoch 10/100\n",
      "54000/54000 [==============================] - 2s 44us/step - loss: 0.2984 - acc: 0.5059 - val_loss: 0.2981 - val_acc: 0.5052\n",
      "Epoch 11/100\n",
      "54000/54000 [==============================] - 2s 46us/step - loss: 0.2977 - acc: 0.5060 - val_loss: 0.2975 - val_acc: 0.5054\n",
      "Epoch 12/100\n",
      "54000/54000 [==============================] - 3s 48us/step - loss: 0.2970 - acc: 0.5061 - val_loss: 0.2969 - val_acc: 0.5053\n",
      "Epoch 13/100\n",
      "54000/54000 [==============================] - 2s 44us/step - loss: 0.2965 - acc: 0.5061 - val_loss: 0.2964 - val_acc: 0.5055\n",
      "Epoch 14/100\n",
      "54000/54000 [==============================] - 3s 50us/step - loss: 0.2960 - acc: 0.5062 - val_loss: 0.2962 - val_acc: 0.5058\n",
      "Epoch 15/100\n",
      "54000/54000 [==============================] - 3s 47us/step - loss: 0.2956 - acc: 0.5062 - val_loss: 0.2958 - val_acc: 0.5052\n",
      "Epoch 16/100\n",
      "54000/54000 [==============================] - 2s 44us/step - loss: 0.2951 - acc: 0.5063 - val_loss: 0.2951 - val_acc: 0.5056\n",
      "Epoch 17/100\n",
      "54000/54000 [==============================] - 2s 46us/step - loss: 0.2948 - acc: 0.5063 - val_loss: 0.2947 - val_acc: 0.5055\n",
      "Epoch 18/100\n",
      "54000/54000 [==============================] - 2s 45us/step - loss: 0.2944 - acc: 0.5064 - val_loss: 0.2943 - val_acc: 0.5056\n",
      "Epoch 19/100\n",
      "54000/54000 [==============================] - 2s 45us/step - loss: 0.2941 - acc: 0.5064 - val_loss: 0.2942 - val_acc: 0.5058\n"
     ]
    }
   ],
   "source": [
    "early_stopping = EarlyStopping(min_delta=1e-4)\n",
    "hist = autoencoder.fit(x_train, x_train, epochs=100, batch_size=128,\n",
    "                 validation_data=(x_val, x_val), callbacks=[early_stopping])"
   ]
  },
  {
   "cell_type": "code",
   "execution_count": 16,
   "metadata": {},
   "outputs": [
    {
     "data": {
      "image/png": "[encoded data removed]",
      "text/plain": [
       "<Figure size 1296x288 with 30 Axes>"
      ]
     },
     "metadata": {
      "needs_background": "light"
     },
     "output_type": "display_data"
    }
   ],
   "source": [
    "num_images = 10\n",
    "np.random.seed(42)\n",
    "random_test_images = np.random.randint(x_test.shape[0], size=num_images)\n",
    "\n",
    "encoded_imgs = encoder.predict(x_test)\n",
    "decoded_imgs = autoencoder.predict(x_test)\n",
    "\n",
    "plt.figure(figsize=(18, 4))\n",
    "\n",
    "for i, image_idx in enumerate(random_test_images):\n",
    "    # plot original image\n",
    "    ax = plt.subplot(3, num_images, i+1)\n",
    "    plt.imshow(x_test[image_idx].reshape(28,28))\n",
    "    plt.gray()\n",
    "    \n",
    "    # plot encoded image\n",
    "    ax = plt.subplot(3, num_images, num_images+i+1)\n",
    "    plt.imshow(encoded_imgs[image_idx].reshape(10,1))\n",
    "    plt.gray()\n",
    "    \n",
    "    # plot decoded image\n",
    "    ax = plt.subplot(3, num_images, 2*num_images+i+1)\n",
    "    plt.imshow(decoded_imgs[image_idx].reshape(28,28))\n",
    "    plt.gray()"
   ]
  },
  {
   "cell_type": "code",
   "execution_count": 18,
   "metadata": {},
   "outputs": [
    {
     "ename": "AttributeError",
     "evalue": "'Sequential' object has no attribute 'clear_session'",
     "output_type": "error",
     "traceback": [
      "\u001b[1;31m---------------------------------------------------------------------------\u001b[0m",
      "\u001b[1;31mAttributeError\u001b[0m                            Traceback (most recent call last)",
      "\u001b[1;32m<ipython-input-18-a3e36e011f67>\u001b[0m in \u001b[0;36m<module>\u001b[1;34m\u001b[0m\n\u001b[1;32m----> 1\u001b[1;33m \u001b[0mautoencoder\u001b[0m\u001b[1;33m.\u001b[0m\u001b[0mclear_session\u001b[0m\u001b[1;33m(\u001b[0m\u001b[1;33m)\u001b[0m\u001b[1;33m\u001b[0m\u001b[1;33m\u001b[0m\u001b[0m\n\u001b[0m",
      "\u001b[1;31mAttributeError\u001b[0m: 'Sequential' object has no attribute 'clear_session'"
     ]
    }
   ],
   "source": []
  },
  {
   "cell_type": "code",
   "execution_count": null,
   "metadata": {},
   "outputs": [],
   "source": [
    "plt.plot(hist.history['loss'], color='b')\n",
    "plt.plot(hist.history['val_loss'], color='r')\n",
    "plt.title('loss')\n",
    "plt.show()\n",
    "plt.plot(hist.history['acc'], color='b')\n",
    "plt.plot(hist.history['val_acc'], color='r')\n",
    "plt.title('accuracy')\n",
    "plt.show()"
   ]
  },
  {
   "cell_type": "code",
   "execution_count": null,
   "metadata": {},
   "outputs": [],
   "source": [
    "y_hat = model.predict(x_val)\n",
    "y_pred = np.argmax(y_hat, axis=1)\n",
    "y_true = np.argmax(y_val, axis=1)\n",
    "cm = confusion_matrix(y_true, y_pred)\n",
    "pprint(cm)"
   ]
  },
  {
   "cell_type": "code",
   "execution_count": null,
   "metadata": {},
   "outputs": [],
   "source": [
    "y_hat = model.predict(df_test.values, batch_size=64)\n",
    "y_pred = np.argmax(y_hat,axis=1)"
   ]
  },
  {
   "cell_type": "code",
   "execution_count": null,
   "metadata": {},
   "outputs": [],
   "source": [
    "with open('submission.csv', 'w') as f :\n",
    "    f.write('ImageId,Label\\n')\n",
    "    for i in range(len(y_pred)) :\n",
    "        f.write(\"\".join([str(i+1),',',str(y_pred[i]),'\\n']))"
   ]
  },
  {
   "cell_type": "code",
   "execution_count": null,
   "metadata": {},
   "outputs": [],
   "source": []
  }
 ],
 "metadata": {
  "kernelspec": {
   "display_name": "Python 3",
   "language": "python",
   "name": "python3"
  },
  "language_info": {
   "codemirror_mode": {
    "name": "ipython",
    "version": 3
   },
   "file_extension": ".py",
   "mimetype": "text/x-python",
   "name": "python",
   "nbconvert_exporter": "python",
   "pygments_lexer": "ipython3",
   "version": "3.7.3"
  }
 },
 "nbformat": 4,
 "nbformat_minor": 2
}
